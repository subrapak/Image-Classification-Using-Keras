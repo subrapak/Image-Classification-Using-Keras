{
  "nbformat": 4,
  "nbformat_minor": 0,
  "metadata": {
    "colab": {
      "name": "vgg16_for_CIFAR10.ipynb",
      "version": "0.3.2",
      "provenance": [],
      "collapsed_sections": [],
      "include_colab_link": true
    },
    "kernelspec": {
      "name": "python3",
      "display_name": "Python 3"
    },
    "accelerator": "GPU"
  },
  "cells": [
    {
      "cell_type": "markdown",
      "metadata": {
        "id": "view-in-github",
        "colab_type": "text"
      },
      "source": [
        "<a href=\"https://colab.research.google.com/github/subrapak/Image-Classification-Using-Keras/blob/master/vgg16_for_CIFAR10.ipynb\" target=\"_parent\"><img src=\"https://colab.research.google.com/assets/colab-badge.svg\" alt=\"Open In Colab\"/></a>"
      ]
    },
    {
      "metadata": {
        "id": "ECKNCa4JnY4G",
        "colab_type": "text"
      },
      "cell_type": "markdown",
      "source": [
        "# Fine tuning the VGG16 model to classify images from the CIFAR-10 dataset"
      ]
    },
    {
      "metadata": {
        "id": "8WINycehnjO6",
        "colab_type": "text"
      },
      "cell_type": "markdown",
      "source": [
        "The following notebook is an attempt to classify the CIFAR-10 dataset using a fine tuned version of the pre-existing VGG16 deep convolutional network.\n",
        "\n",
        "Initially, the code was run locally on a 13-inch Late 2011 MacBook Pro with a 2.4GHz Intel Core i5 processor. Unfortunately, as the training was too slow, the code was stripped down and transferred into the Google Colab workspace, and was run using a cloud GPU, specifications for which are given below.\n",
        "\n",
        "Despite the added computing power, the were still limitations on the batch size and number of images that the GPU could handle and as such, the accuracy achieved could be improved by training the network on larger batches with more variability in images.\n",
        "\n",
        "**An accuracy of just over 70% was achieved using 3000 sample images, a batch size of 64 and 40 epochs. The SGD and Adam optimizer was used with a progressively smaller learning rates, with categorical cross entropy as the loss function.**"
      ]
    },
    {
      "metadata": {
        "id": "blLgZlz-NRvN",
        "colab_type": "text"
      },
      "cell_type": "markdown",
      "source": [
        "This first piece of code shows us the GPU or CPU that we're currently using with Google Colab:"
      ]
    },
    {
      "metadata": {
        "id": "LrBdZiVNDxMk",
        "colab_type": "code",
        "outputId": "d0e6407e-212e-4848-d29b-29fe81adbd97",
        "colab": {
          "base_uri": "https://localhost:8080/",
          "height": 476
        }
      },
      "cell_type": "code",
      "source": [
        "from tensorflow.python.client import device_lib\n",
        "device_lib.list_local_devices()"
      ],
      "execution_count": 1,
      "outputs": [
        {
          "output_type": "execute_result",
          "data": {
            "text/plain": [
              "[name: \"/device:CPU:0\"\n",
              " device_type: \"CPU\"\n",
              " memory_limit: 268435456\n",
              " locality {\n",
              " }\n",
              " incarnation: 7944220852210386541, name: \"/device:XLA_CPU:0\"\n",
              " device_type: \"XLA_CPU\"\n",
              " memory_limit: 17179869184\n",
              " locality {\n",
              " }\n",
              " incarnation: 8546170618818096215\n",
              " physical_device_desc: \"device: XLA_CPU device\", name: \"/device:XLA_GPU:0\"\n",
              " device_type: \"XLA_GPU\"\n",
              " memory_limit: 17179869184\n",
              " locality {\n",
              " }\n",
              " incarnation: 1876564314333632402\n",
              " physical_device_desc: \"device: XLA_GPU device\", name: \"/device:GPU:0\"\n",
              " device_type: \"GPU\"\n",
              " memory_limit: 11281553818\n",
              " locality {\n",
              "   bus_id: 1\n",
              "   links {\n",
              "   }\n",
              " }\n",
              " incarnation: 11228868237838419931\n",
              " physical_device_desc: \"device: 0, name: Tesla K80, pci bus id: 0000:00:04.0, compute capability: 3.7\"]"
            ]
          },
          "metadata": {
            "tags": []
          },
          "execution_count": 1
        }
      ]
    },
    {
      "metadata": {
        "id": "iM3RefyGNZOc",
        "colab_type": "text"
      },
      "cell_type": "markdown",
      "source": [
        "Import all the relevant dependencies:"
      ]
    },
    {
      "metadata": {
        "id": "t_JJZQlfE2OK",
        "colab_type": "code",
        "outputId": "59147eea-8a1e-4155-ba9b-6762158b879f",
        "colab": {
          "base_uri": "https://localhost:8080/",
          "height": 34
        }
      },
      "cell_type": "code",
      "source": [
        "import numpy as np\n",
        "import scipy\n",
        "from scipy.sparse import hstack\n",
        "import pandas as pd\n",
        "import itertools\n",
        "import cv2\n",
        "from matplotlib import pyplot as plt\n",
        "%matplotlib inline\n",
        "\n",
        "\n",
        "import keras\n",
        "from keras import backend as K\n",
        "from keras.models import Sequential\n",
        "from keras.layers import Activation\n",
        "from keras.layers.core import Dense, Flatten\n",
        "from keras.optimizers import Adam, SGD, Nadam, Adagrad\n",
        "from keras.metrics import categorical_crossentropy\n",
        "from keras.preprocessing.image import ImageDataGenerator\n",
        "#from keras.layers.normalization import BatchNormalization\n",
        "#from keras.layers.convolutional import *\n",
        "\n",
        "\n",
        "from sklearn.preprocessing import OneHotEncoder\n",
        "\n",
        "import warnings\n",
        "warnings.filterwarnings('ignore')\n",
        "\n",
        "import os\n",
        "os.environ['KMP_DUPLICATE_LIB_OK']='True'\n"
      ],
      "execution_count": 2,
      "outputs": [
        {
          "output_type": "stream",
          "text": [
            "Using TensorFlow backend.\n"
          ],
          "name": "stderr"
        }
      ]
    },
    {
      "metadata": {
        "id": "1vPGpPSONgtE",
        "colab_type": "text"
      },
      "cell_type": "markdown",
      "source": [
        "# Acquire and load CIFAR-10 dataset"
      ]
    },
    {
      "metadata": {
        "id": "quWVey5XRPFl",
        "colab_type": "text"
      },
      "cell_type": "markdown",
      "source": [
        "First, we need to acquire the CIFAR-10 dataset from the CIFAR website: [CIFAR datasets](https://www.cs.toronto.edu/~kriz/cifar.html)\n",
        "\n",
        "Download the Python version of the dataset, and save it locally on a device, and then extract/unzip the file until you have a folder named 'cifar-10-batches-py' - this contains the training and test data sets.\n",
        "\n",
        "Next, we upload the relevant files (one training dataset and the test dataset) to the Google Colab workspace, and from there we can load it into our notebook, as shown below."
      ]
    },
    {
      "metadata": {
        "id": "i5qsksFoyz1K",
        "colab_type": "code",
        "colab": {}
      },
      "cell_type": "code",
      "source": [
        "def unpickle(file):\n",
        "    import pickle\n",
        "    with open(file, 'rb') as fo:\n",
        "        dict = pickle.load(fo, encoding='bytes')\n",
        "    return dict"
      ],
      "execution_count": 0,
      "outputs": []
    },
    {
      "metadata": {
        "id": "ARvK-gFsy3mq",
        "colab_type": "code",
        "colab": {
          "resources": {
            "http://localhost:8080/nbextensions/google.colab/files.js": {
              "data": "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",
              "ok": true,
              "headers": [
                [
                  "content-type",
                  "application/javascript"
                ]
              ],
              "status": 200,
              "status_text": ""
            }
          },
          "base_uri": "https://localhost:8080/",
          "height": 103
        },
        "outputId": "7c4cbf11-b7e0-45f6-f7a3-2e65e6c5592a"
      },
      "cell_type": "code",
      "source": [
        "#code only needs to be run once - after this, it can be commented out\n",
        "from google.colab import files\n",
        "uploaded = files.upload()"
      ],
      "execution_count": 6,
      "outputs": [
        {
          "output_type": "display_data",
          "data": {
            "text/html": [
              "\n",
              "     <input type=\"file\" id=\"files-df3f396f-4aa4-470b-a395-cffcdd5b2001\" name=\"files[]\" multiple disabled />\n",
              "     <output id=\"result-df3f396f-4aa4-470b-a395-cffcdd5b2001\">\n",
              "      Upload widget is only available when the cell has been executed in the\n",
              "      current browser session. Please rerun this cell to enable.\n",
              "      </output>\n",
              "      <script src=\"/nbextensions/google.colab/files.js\"></script> "
            ],
            "text/plain": [
              "<IPython.core.display.HTML object>"
            ]
          },
          "metadata": {
            "tags": []
          }
        },
        {
          "output_type": "stream",
          "text": [
            "Saving data_batch_1 to data_batch_1\n",
            "Saving test_batch to test_batch\n"
          ],
          "name": "stdout"
        }
      ]
    },
    {
      "metadata": {
        "id": "dTFYMyMDy9Th",
        "colab_type": "code",
        "colab": {}
      },
      "cell_type": "code",
      "source": [
        "#create two new dicts\n",
        "raw_trainvalid = unpickle('data_batch_1')\n",
        "raw_test = unpickle('test_batch')"
      ],
      "execution_count": 0,
      "outputs": []
    },
    {
      "metadata": {
        "id": "QRPm93RRy_-C",
        "colab_type": "code",
        "colab": {}
      },
      "cell_type": "code",
      "source": [
        "df_raw_trainvalid = pd.DataFrame()\n",
        "df_raw_trainvalid = df_raw_trainvalid.from_dict(raw_trainvalid,orient='index')\n",
        "\n",
        "#training and validation samples\n",
        "trainval_samps = np.array(df_raw_trainvalid[0][2])\n",
        "#training and validation labels\n",
        "trainval_labs = np.array(df_raw_trainvalid[0][1])\n",
        "trainval_labs = trainval_labs.reshape(len(trainval_labs),1)\n",
        "\n",
        "\n",
        "df_raw_test = pd.DataFrame()\n",
        "df_raw_test = df_raw_test.from_dict(raw_test,orient='index')\n",
        "\n",
        "#test samples\n",
        "test_samps = np.array(df_raw_test[0][2])\n",
        "#test labels\n",
        "test_labs = np.array(df_raw_test[0][1])\n",
        "test_labs = test_labs.reshape(len(test_labs),1)"
      ],
      "execution_count": 0,
      "outputs": []
    },
    {
      "metadata": {
        "id": "qebWDsWH0uxq",
        "colab_type": "text"
      },
      "cell_type": "markdown",
      "source": [
        "Convert the image labels (which are currently numeric) into one hot encoded vectors:"
      ]
    },
    {
      "metadata": {
        "id": "9ZB3OVNF0fda",
        "colab_type": "code",
        "colab": {}
      },
      "cell_type": "code",
      "source": [
        "enc = OneHotEncoder()\n",
        "\n",
        "trainval_labs_cls = enc.fit_transform(trainval_labs)\n",
        "trainval_labs_cls = hstack([trainval_labs_cls]).toarray() #use hstack to convert the vectors into arrays for processing later on\n",
        "\n",
        "test_labs_cls = enc.fit_transform(test_labs)\n",
        "test_labs_cls = hstack([test_labs_cls]).toarray()\n"
      ],
      "execution_count": 0,
      "outputs": []
    },
    {
      "metadata": {
        "id": "bKuc7iYn0xvf",
        "colab_type": "text"
      },
      "cell_type": "markdown",
      "source": [
        "Each array contains 10,000 images - AKA 10000 arrays of 3072 numbers each, with each number representing one pixel in an RGB image of 32x32 pixels. There are 3072 values because each image has 32x32 pixels, and has three layers (RGB) so 32x32x3 = 3072.\n",
        "\n",
        "We need to reshape these integer arrays so they're in the shape 32x32x3. Once resized, we have to changed the orientation of the array using the img.transpose() function, so that the images can be displayed using the plt.imshow() function later on."
      ]
    },
    {
      "metadata": {
        "id": "o00Vgoa30jV6",
        "colab_type": "code",
        "colab": {}
      },
      "cell_type": "code",
      "source": [
        "trainval_samp_imgs = np.reshape(trainval_samps,[len(trainval_samps),3,32,32])\n",
        "trainval_samp_imgs = trainval_samp_imgs.transpose((0,2,3,1))\n",
        "\n",
        "test_samp_imgs = np.reshape(test_samps,[len(test_samps),3,32,32])\n",
        "test_samp_imgs = test_samp_imgs.transpose((0,2,3,1))"
      ],
      "execution_count": 0,
      "outputs": []
    },
    {
      "metadata": {
        "id": "-EFFGkG6QgYL",
        "colab_type": "text"
      },
      "cell_type": "markdown",
      "source": [
        "The VGG16 neural net that we use later on only accepts images in the size 224x224 pixels - for this we need to resize the images; do this below:"
      ]
    },
    {
      "metadata": {
        "id": "A1UHN3zF0mei",
        "colab_type": "code",
        "colab": {}
      },
      "cell_type": "code",
      "source": [
        "#Expect a pause\n",
        "\n",
        "sized_trainval_samp_imgs = []\n",
        "sized_test_samp_imgs = []\n",
        "\n",
        "for i in range(len(trainval_samp_imgs)):\n",
        "    sized_trainval_samp_imgs.append(cv2.resize(trainval_samp_imgs[i], dsize=(224, 224)))\n",
        "    sized_test_samp_imgs.append(cv2.resize(test_samp_imgs[i], dsize=(224, 224)))\n",
        "\n",
        "\n",
        "sized_trainval_samp_imgs = np.array(sized_trainval_samp_imgs)\n",
        "sized_test_samp_imgs = np.array(sized_test_samp_imgs)\n"
      ],
      "execution_count": 0,
      "outputs": []
    },
    {
      "metadata": {
        "id": "lNu0DuJ4BIxW",
        "colab_type": "text"
      },
      "cell_type": "markdown",
      "source": [
        "So we found that if you resize the images and then try and make a training, validation and test set from 10,000 images that are 244x244x3, that will take way too long. So instead we've put in parameters for number of samples, batchsize and validation split so that the ImageDataGenerator can handle it."
      ]
    },
    {
      "metadata": {
        "id": "8-N_d8xT0mju",
        "colab_type": "code",
        "colab": {
          "base_uri": "https://localhost:8080/",
          "height": 68
        },
        "outputId": "cd4fc7d2-c469-4192-ef0e-c6a5d4211e24"
      },
      "cell_type": "code",
      "source": [
        "val_split = 0.2 #fraction of images that become validation data (rest are training)\n",
        "batchsize = 64 #set batchsize\n",
        "n_samples = 3000 #set to 10,000 to use all trainval images - max test samples is also 10,000\n",
        "#n_samples > 3000 ish gives memory problems. Increase the no. of epochs instead.\n",
        "\n",
        "n_train = n_samples*(1-val_split) #number of training samples\n",
        "n_valid = n_samples*(val_split) #number of validation samples\n",
        "\n",
        "\n",
        "train_batches = ImageDataGenerator(samplewise_center=True, samplewise_std_normalization=True, rescale=(1/255), validation_split=val_split).flow(x = sized_trainval_samp_imgs[0:n_samples], y = trainval_labs_cls[0:n_samples], batch_size = batchsize,shuffle=True,subset=\"training\")\n",
        "print('traindone')\n",
        "valid_batches = ImageDataGenerator(samplewise_center=True, samplewise_std_normalization=True, rescale=(1/255), validation_split=val_split).flow(x = sized_trainval_samp_imgs[0:n_samples], y = trainval_labs_cls[0:n_samples], batch_size = batchsize,shuffle=True,subset=\"validation\")\n",
        "print('validdone')\n",
        "test_batches = ImageDataGenerator(samplewise_center=True, samplewise_std_normalization=True, rescale=(1/255)).flow(x = sized_test_samp_imgs[0:n_samples], y = test_labs_cls[0:n_samples], batch_size = batchsize, shuffle=True)\n",
        "print('testdone')\n"
      ],
      "execution_count": 12,
      "outputs": [
        {
          "output_type": "stream",
          "text": [
            "traindone\n",
            "validdone\n",
            "testdone\n"
          ],
          "name": "stdout"
        }
      ]
    },
    {
      "metadata": {
        "id": "eyTxAEykb2sE",
        "colab_type": "text"
      },
      "cell_type": "markdown",
      "source": [
        " # Plotting images\n"
      ]
    },
    {
      "metadata": {
        "id": "ElLCv5GUS5e5",
        "colab_type": "text"
      },
      "cell_type": "markdown",
      "source": [
        "This section is just there to check that the images have been resized, and to see the comparison between a 32x32 image and a 224x224 image:"
      ]
    },
    {
      "metadata": {
        "id": "AvkUW_bXbvbw",
        "colab_type": "code",
        "colab": {
          "base_uri": "https://localhost:8080/",
          "height": 204
        },
        "outputId": "43db8198-9955-45f9-d265-f4bdb2e42c63"
      },
      "cell_type": "code",
      "source": [
        "\n",
        "plt.subplot(1,2,1)\n",
        "plt.imshow(trainval_samp_imgs[0])\n",
        "plt.grid('off')\n",
        "plt.subplot(1,2,2)\n",
        "plt.imshow(sized_trainval_samp_imgs[0])\n",
        "plt.grid('off')"
      ],
      "execution_count": 13,
      "outputs": [
        {
          "output_type": "display_data",
          "data": {
            "image/png": "[encoded data removed]",
            "text/plain": [
              "<matplotlib.figure.Figure at 0x7f9187ff1ba8>"
            ]
          },
          "metadata": {
            "tags": []
          }
        }
      ]
    },
    {
      "metadata": {
        "id": "ALkfLDWuBvQE",
        "colab_type": "text"
      },
      "cell_type": "markdown",
      "source": [
        "# Build Fine Tuned VGG16 model"
      ]
    },
    {
      "metadata": {
        "id": "JNaEufb4Vcsj",
        "colab_type": "text"
      },
      "cell_type": "markdown",
      "source": [
        "First, we import the VGG16 model, which comes within the keras package. After this, we create a new model named `model`, to which we add each layer of the VGG16 model except the final one. As the VGG16 model can classify images in upto 1000 categories, its final layer is a dense layer with 1000 nodes. As we only require 10 classifications, we remove the bottom layer and add in a dense layer with 10 nodes.\n",
        "\n",
        "As the rest of the model is well trained, we only train the last layer - this also massively reduces the time required for training."
      ]
    },
    {
      "metadata": {
        "id": "BdTzYy2CBUM9",
        "colab_type": "code",
        "colab": {
          "base_uri": "https://localhost:8080/",
          "height": 71
        },
        "outputId": "aee71ab5-96f4-47bd-a90e-ddbbab3440dc"
      },
      "cell_type": "code",
      "source": [
        "vgg16_model = keras.applications.vgg16.VGG16()\n"
      ],
      "execution_count": 14,
      "outputs": [
        {
          "output_type": "stream",
          "text": [
            "Downloading data from https://github.com/fchollet/deep-learning-models/releases/download/v0.1/vgg16_weights_tf_dim_ordering_tf_kernels.h5\n",
            "553467904/553467096 [==============================] - 37s 0us/step\n"
          ],
          "name": "stdout"
        }
      ]
    },
    {
      "metadata": {
        "id": "v-SABOy7BUEa",
        "colab_type": "code",
        "colab": {
          "base_uri": "https://localhost:8080/",
          "height": 34
        },
        "outputId": "ce21b81a-1eaa-4c0f-daba-ef58bc3b810a"
      },
      "cell_type": "code",
      "source": [
        "type(vgg16_model)\n",
        "vgg16_model.summary()"
      ],
      "execution_count": 15,
      "outputs": [
        {
          "output_type": "execute_result",
          "data": {
            "text/plain": [
              "keras.engine.training.Model"
            ]
          },
          "metadata": {
            "tags": []
          },
          "execution_count": 15
        }
      ]
    },
    {
      "metadata": {
        "id": "3mWvStYuUUv9",
        "colab_type": "text"
      },
      "cell_type": "markdown",
      "source": [
        "With the VGG16 model, as it classifies images into 1000 different classes, this is too many - we only require classification into 10 different classes. Therefore, in the final Dense layer, instead of an output vector of 1000, we need an output vector of just 10.\n",
        "\n",
        "To do this, we create a new sequential model called 'model' using `model = Sequential()` and add all but the last VGG16 layers to it. Then, we make all these layers untrainable (as they have already been trained and their weights do not need to be updated), and add a final dense layer with 10 outputs and a softmax activation function.\n",
        "\n",
        "The softmax activation function ensures that all the output values in the final array sum to 1 (essentially giving us the probability that the network thinks the image belongs to each of those categories). We can see the completed model in the final `model.summary()` cell."
      ]
    },
    {
      "metadata": {
        "id": "T1HHI_1YBT6V",
        "colab_type": "code",
        "colab": {}
      },
      "cell_type": "code",
      "source": [
        "model = Sequential()\n",
        "for layer in vgg16_model.layers[:-1]:\n",
        "    model.add(layer)"
      ],
      "execution_count": 0,
      "outputs": []
    },
    {
      "metadata": {
        "id": "U_dEib1KBTm4",
        "colab_type": "code",
        "colab": {}
      },
      "cell_type": "code",
      "source": [
        "for layer in model.layers:\n",
        "    layer.trainable = False #excluding each layer from future training, useful for fine tuning"
      ],
      "execution_count": 0,
      "outputs": []
    },
    {
      "metadata": {
        "id": "Tc02Oq8lB_DZ",
        "colab_type": "code",
        "colab": {}
      },
      "cell_type": "code",
      "source": [
        "model.add(Dense(10, activation = 'softmax'))"
      ],
      "execution_count": 0,
      "outputs": []
    },
    {
      "metadata": {
        "id": "FvPPBDvyB-5x",
        "colab_type": "code",
        "colab": {
          "base_uri": "https://localhost:8080/",
          "height": 884
        },
        "outputId": "5debb949-8c9f-419e-8a02-dc69488dca27"
      },
      "cell_type": "code",
      "source": [
        "#see final model\n",
        "model.summary()"
      ],
      "execution_count": 19,
      "outputs": [
        {
          "output_type": "stream",
          "text": [
            "_________________________________________________________________\n",
            "Layer (type)                 Output Shape              Param #   \n",
            "=================================================================\n",
            "block1_conv1 (Conv2D)        (None, 224, 224, 64)      1792      \n",
            "_________________________________________________________________\n",
            "block1_conv2 (Conv2D)        (None, 224, 224, 64)      36928     \n",
            "_________________________________________________________________\n",
            "block1_pool (MaxPooling2D)   (None, 112, 112, 64)      0         \n",
            "_________________________________________________________________\n",
            "block2_conv1 (Conv2D)        (None, 112, 112, 128)     73856     \n",
            "_________________________________________________________________\n",
            "block2_conv2 (Conv2D)        (None, 112, 112, 128)     147584    \n",
            "_________________________________________________________________\n",
            "block2_pool (MaxPooling2D)   (None, 56, 56, 128)       0         \n",
            "_________________________________________________________________\n",
            "block3_conv1 (Conv2D)        (None, 56, 56, 256)       295168    \n",
            "_________________________________________________________________\n",
            "block3_conv2 (Conv2D)        (None, 56, 56, 256)       590080    \n",
            "_________________________________________________________________\n",
            "block3_conv3 (Conv2D)        (None, 56, 56, 256)       590080    \n",
            "_________________________________________________________________\n",
            "block3_pool (MaxPooling2D)   (None, 28, 28, 256)       0         \n",
            "_________________________________________________________________\n",
            "block4_conv1 (Conv2D)        (None, 28, 28, 512)       1180160   \n",
            "_________________________________________________________________\n",
            "block4_conv2 (Conv2D)        (None, 28, 28, 512)       2359808   \n",
            "_________________________________________________________________\n",
            "block4_conv3 (Conv2D)        (None, 28, 28, 512)       2359808   \n",
            "_________________________________________________________________\n",
            "block4_pool (MaxPooling2D)   (None, 14, 14, 512)       0         \n",
            "_________________________________________________________________\n",
            "block5_conv1 (Conv2D)        (None, 14, 14, 512)       2359808   \n",
            "_________________________________________________________________\n",
            "block5_conv2 (Conv2D)        (None, 14, 14, 512)       2359808   \n",
            "_________________________________________________________________\n",
            "block5_conv3 (Conv2D)        (None, 14, 14, 512)       2359808   \n",
            "_________________________________________________________________\n",
            "block5_pool (MaxPooling2D)   (None, 7, 7, 512)         0         \n",
            "_________________________________________________________________\n",
            "flatten (Flatten)            (None, 25088)             0         \n",
            "_________________________________________________________________\n",
            "fc1 (Dense)                  (None, 4096)              102764544 \n",
            "_________________________________________________________________\n",
            "fc2 (Dense)                  (None, 4096)              16781312  \n",
            "_________________________________________________________________\n",
            "dense_1 (Dense)              (None, 10)                40970     \n",
            "=================================================================\n",
            "Total params: 134,301,514\n",
            "Trainable params: 40,970\n",
            "Non-trainable params: 134,260,544\n",
            "_________________________________________________________________\n"
          ],
          "name": "stdout"
        }
      ]
    },
    {
      "metadata": {
        "id": "SyixeaxBCMJL",
        "colab_type": "text"
      },
      "cell_type": "markdown",
      "source": [
        "# Train Fine Tuned VGG16 model"
      ]
    },
    {
      "metadata": {
        "id": "nbCRovRjVX45",
        "colab_type": "text"
      },
      "cell_type": "markdown",
      "source": [
        "Finally, we train the model. Based on the research paper, we have standardized our input data (see `ImageDataGenerator()` cell) and are choosing to use a stochastic gradient descent optimizer with a learning rate of 0.01 and momentum of 0.9, also in accordance with the paper.\n",
        "\n",
        "A number of trials showed that the best optimizer to use for the next section was Adam, and it is used for the next two sets of 20 epochs with a progressively smaller learning rate. This achieves an consistent accuracy of over 70%."
      ]
    },
    {
      "metadata": {
        "id": "BU7wr_3mE-j9",
        "colab_type": "code",
        "colab": {
          "base_uri": "https://localhost:8080/",
          "height": 714
        },
        "outputId": "e3a7f700-e6ab-476c-8984-1cd349c65c1d"
      },
      "cell_type": "code",
      "source": [
        "model.compile(SGD(lr=0.01, momentum = 0.9), loss = \"categorical_crossentropy\", metrics=[\"accuracy\"])\n",
        "model.fit_generator(train_batches, steps_per_epoch=len(train_batches), validation_data=valid_batches, validation_steps=len(valid_batches), epochs=20, verbose=1)\n"
      ],
      "execution_count": 20,
      "outputs": [
        {
          "output_type": "stream",
          "text": [
            "Epoch 1/20\n",
            "38/38 [==============================] - 38s 1s/step - loss: 2.2778 - acc: 0.2142 - val_loss: 2.1576 - val_acc: 0.3567\n",
            "Epoch 2/20\n",
            "38/38 [==============================] - 25s 670ms/step - loss: 1.8012 - acc: 0.4054 - val_loss: 1.6411 - val_acc: 0.4483\n",
            "Epoch 3/20\n",
            "38/38 [==============================] - 25s 671ms/step - loss: 1.5925 - acc: 0.4535 - val_loss: 1.2291 - val_acc: 0.5867\n",
            "Epoch 4/20\n",
            "38/38 [==============================] - 25s 671ms/step - loss: 1.4100 - acc: 0.5230 - val_loss: 1.2775 - val_acc: 0.5700\n",
            "Epoch 5/20\n",
            "38/38 [==============================] - 25s 671ms/step - loss: 1.2186 - acc: 0.5708 - val_loss: 1.4312 - val_acc: 0.4850\n",
            "Epoch 6/20\n",
            "38/38 [==============================] - 25s 671ms/step - loss: 1.2497 - acc: 0.5592 - val_loss: 1.3740 - val_acc: 0.5050\n",
            "Epoch 7/20\n",
            "38/38 [==============================] - 25s 668ms/step - loss: 1.2682 - acc: 0.5732 - val_loss: 1.3909 - val_acc: 0.5300\n",
            "Epoch 8/20\n",
            "38/38 [==============================] - 25s 670ms/step - loss: 1.1806 - acc: 0.5979 - val_loss: 1.1622 - val_acc: 0.5883\n",
            "Epoch 9/20\n",
            "38/38 [==============================] - 25s 671ms/step - loss: 1.1908 - acc: 0.5859 - val_loss: 1.4504 - val_acc: 0.5167\n",
            "Epoch 10/20\n",
            "38/38 [==============================] - 25s 671ms/step - loss: 1.2277 - acc: 0.5806 - val_loss: 1.2988 - val_acc: 0.5750\n",
            "Epoch 11/20\n",
            "38/38 [==============================] - 25s 669ms/step - loss: 1.1170 - acc: 0.6180 - val_loss: 1.0776 - val_acc: 0.6333\n",
            "Epoch 12/20\n",
            "38/38 [==============================] - 25s 670ms/step - loss: 1.1852 - acc: 0.6110 - val_loss: 1.0943 - val_acc: 0.6300\n",
            "Epoch 13/20\n",
            "38/38 [==============================] - 25s 670ms/step - loss: 1.0013 - acc: 0.6558 - val_loss: 1.0238 - val_acc: 0.6383\n",
            "Epoch 14/20\n",
            "38/38 [==============================] - 25s 671ms/step - loss: 1.1467 - acc: 0.6064 - val_loss: 1.1794 - val_acc: 0.5717\n",
            "Epoch 15/20\n",
            "38/38 [==============================] - 25s 669ms/step - loss: 1.1212 - acc: 0.6106 - val_loss: 1.3042 - val_acc: 0.5600\n",
            "Epoch 16/20\n",
            "38/38 [==============================] - 25s 671ms/step - loss: 1.0272 - acc: 0.6385 - val_loss: 1.0625 - val_acc: 0.6333\n",
            "Epoch 17/20\n",
            "38/38 [==============================] - 25s 671ms/step - loss: 0.9302 - acc: 0.6731 - val_loss: 1.4778 - val_acc: 0.5283\n",
            "Epoch 18/20\n",
            "38/38 [==============================] - 25s 671ms/step - loss: 1.0919 - acc: 0.6365 - val_loss: 1.0904 - val_acc: 0.6317\n",
            "Epoch 19/20\n",
            "38/38 [==============================] - 25s 670ms/step - loss: 1.0433 - acc: 0.6546 - val_loss: 1.1641 - val_acc: 0.5950\n",
            "Epoch 20/20\n",
            "38/38 [==============================] - 25s 669ms/step - loss: 1.0356 - acc: 0.6357 - val_loss: 1.2013 - val_acc: 0.5883\n"
          ],
          "name": "stdout"
        },
        {
          "output_type": "execute_result",
          "data": {
            "text/plain": [
              "<keras.callbacks.History at 0x7f90e63fbe10>"
            ]
          },
          "metadata": {
            "tags": []
          },
          "execution_count": 20
        }
      ]
    },
    {
      "metadata": {
        "id": "6jRoQbbCnYEj",
        "colab_type": "code",
        "colab": {
          "base_uri": "https://localhost:8080/",
          "height": 714
        },
        "outputId": "cabb51c6-4513-480f-fb6c-d41687eebba2"
      },
      "cell_type": "code",
      "source": [
        "model.compile(Adam(lr=0.005), loss = \"categorical_crossentropy\", metrics=[\"accuracy\"])\n",
        "model.fit_generator(train_batches, steps_per_epoch=len(train_batches), validation_data=valid_batches, validation_steps=len(valid_batches), epochs=20, verbose=1)"
      ],
      "execution_count": 21,
      "outputs": [
        {
          "output_type": "stream",
          "text": [
            "Epoch 1/20\n",
            "38/38 [==============================] - 26s 688ms/step - loss: 0.8645 - acc: 0.7040 - val_loss: 0.9085 - val_acc: 0.6717\n",
            "Epoch 2/20\n",
            "38/38 [==============================] - 26s 671ms/step - loss: 0.7973 - acc: 0.7340 - val_loss: 0.9580 - val_acc: 0.6667\n",
            "Epoch 3/20\n",
            "38/38 [==============================] - 25s 671ms/step - loss: 0.8160 - acc: 0.7163 - val_loss: 0.9010 - val_acc: 0.6983\n",
            "Epoch 4/20\n",
            "38/38 [==============================] - 26s 672ms/step - loss: 0.7715 - acc: 0.7471 - val_loss: 0.8884 - val_acc: 0.6950\n",
            "Epoch 5/20\n",
            "38/38 [==============================] - 25s 671ms/step - loss: 0.7962 - acc: 0.7303 - val_loss: 0.9059 - val_acc: 0.6767\n",
            "Epoch 6/20\n",
            "38/38 [==============================] - 25s 670ms/step - loss: 0.7686 - acc: 0.7352 - val_loss: 0.9012 - val_acc: 0.6950\n",
            "Epoch 7/20\n",
            "38/38 [==============================] - 25s 670ms/step - loss: 0.7622 - acc: 0.7484 - val_loss: 0.8750 - val_acc: 0.7017\n",
            "Epoch 8/20\n",
            "38/38 [==============================] - 25s 670ms/step - loss: 0.7581 - acc: 0.7468 - val_loss: 0.8764 - val_acc: 0.7100\n",
            "Epoch 9/20\n",
            "38/38 [==============================] - 25s 671ms/step - loss: 0.7606 - acc: 0.7434 - val_loss: 0.8565 - val_acc: 0.7033\n",
            "Epoch 10/20\n",
            "38/38 [==============================] - 25s 671ms/step - loss: 0.7818 - acc: 0.7311 - val_loss: 0.9155 - val_acc: 0.7017\n",
            "Epoch 11/20\n",
            "38/38 [==============================] - 26s 671ms/step - loss: 0.7407 - acc: 0.7611 - val_loss: 0.9211 - val_acc: 0.6783\n",
            "Epoch 12/20\n",
            "38/38 [==============================] - 25s 670ms/step - loss: 0.7441 - acc: 0.7520 - val_loss: 0.8433 - val_acc: 0.7100\n",
            "Epoch 13/20\n",
            "38/38 [==============================] - 25s 671ms/step - loss: 0.7249 - acc: 0.7479 - val_loss: 0.8744 - val_acc: 0.6817\n",
            "Epoch 14/20\n",
            "38/38 [==============================] - 25s 670ms/step - loss: 0.7336 - acc: 0.7517 - val_loss: 0.8972 - val_acc: 0.6733\n",
            "Epoch 15/20\n",
            "38/38 [==============================] - 25s 670ms/step - loss: 0.6960 - acc: 0.7639 - val_loss: 0.8996 - val_acc: 0.6883\n",
            "Epoch 16/20\n",
            "38/38 [==============================] - 26s 671ms/step - loss: 0.7455 - acc: 0.7491 - val_loss: 0.8228 - val_acc: 0.7167\n",
            "Epoch 17/20\n",
            "38/38 [==============================] - 25s 671ms/step - loss: 0.6973 - acc: 0.7631 - val_loss: 0.8539 - val_acc: 0.7083\n",
            "Epoch 18/20\n",
            "38/38 [==============================] - 25s 671ms/step - loss: 0.7002 - acc: 0.7742 - val_loss: 0.8778 - val_acc: 0.7033\n",
            "Epoch 19/20\n",
            "38/38 [==============================] - 26s 671ms/step - loss: 0.7094 - acc: 0.7632 - val_loss: 0.8096 - val_acc: 0.7233\n",
            "Epoch 20/20\n",
            "38/38 [==============================] - 25s 671ms/step - loss: 0.6866 - acc: 0.7726 - val_loss: 0.9133 - val_acc: 0.6833\n"
          ],
          "name": "stdout"
        },
        {
          "output_type": "execute_result",
          "data": {
            "text/plain": [
              "<keras.callbacks.History at 0x7f90e63fbdd8>"
            ]
          },
          "metadata": {
            "tags": []
          },
          "execution_count": 21
        }
      ]
    },
    {
      "metadata": {
        "id": "DGZoYI0--SHN",
        "colab_type": "code",
        "colab": {
          "base_uri": "https://localhost:8080/",
          "height": 714
        },
        "outputId": "08efa6d3-bfa0-4a07-f5c4-6e805bef819c"
      },
      "cell_type": "code",
      "source": [
        "model.compile(Adam(lr=0.0005), loss = \"categorical_crossentropy\", metrics=[\"accuracy\"])\n",
        "model.fit_generator(train_batches, steps_per_epoch=len(train_batches), validation_data=valid_batches, validation_steps=len(valid_batches), epochs=20, verbose=1)"
      ],
      "execution_count": 22,
      "outputs": [
        {
          "output_type": "stream",
          "text": [
            "Epoch 1/20\n",
            "38/38 [==============================] - 26s 687ms/step - loss: 0.6985 - acc: 0.7681 - val_loss: 0.8203 - val_acc: 0.7267\n",
            "Epoch 2/20\n",
            "38/38 [==============================] - 25s 669ms/step - loss: 0.6830 - acc: 0.7722 - val_loss: 0.8244 - val_acc: 0.7167\n",
            "Epoch 3/20\n",
            "38/38 [==============================] - 25s 670ms/step - loss: 0.6896 - acc: 0.7702 - val_loss: 0.8710 - val_acc: 0.7100\n",
            "Epoch 4/20\n",
            "38/38 [==============================] - 26s 672ms/step - loss: 0.6656 - acc: 0.7825 - val_loss: 0.9058 - val_acc: 0.7000\n",
            "Epoch 5/20\n",
            "38/38 [==============================] - 26s 672ms/step - loss: 0.6729 - acc: 0.7710 - val_loss: 0.8366 - val_acc: 0.7300\n",
            "Epoch 6/20\n",
            "38/38 [==============================] - 25s 671ms/step - loss: 0.6641 - acc: 0.7771 - val_loss: 0.8196 - val_acc: 0.7167\n",
            "Epoch 7/20\n",
            "38/38 [==============================] - 25s 671ms/step - loss: 0.6568 - acc: 0.7894 - val_loss: 0.8748 - val_acc: 0.7000\n",
            "Epoch 8/20\n",
            "38/38 [==============================] - 25s 669ms/step - loss: 0.6537 - acc: 0.7862 - val_loss: 0.8276 - val_acc: 0.7167\n",
            "Epoch 9/20\n",
            "38/38 [==============================] - 26s 671ms/step - loss: 0.6581 - acc: 0.7828 - val_loss: 0.8149 - val_acc: 0.7283\n",
            "Epoch 10/20\n",
            "38/38 [==============================] - 25s 670ms/step - loss: 0.6742 - acc: 0.7689 - val_loss: 0.8370 - val_acc: 0.7167\n",
            "Epoch 11/20\n",
            "38/38 [==============================] - 25s 670ms/step - loss: 0.6412 - acc: 0.7862 - val_loss: 0.8563 - val_acc: 0.7150\n",
            "Epoch 12/20\n",
            "38/38 [==============================] - 26s 671ms/step - loss: 0.6400 - acc: 0.7879 - val_loss: 0.7998 - val_acc: 0.7217\n",
            "Epoch 13/20\n",
            "38/38 [==============================] - 25s 669ms/step - loss: 0.6390 - acc: 0.7833 - val_loss: 0.8574 - val_acc: 0.7150\n",
            "Epoch 14/20\n",
            "38/38 [==============================] - 25s 670ms/step - loss: 0.6406 - acc: 0.7899 - val_loss: 0.8500 - val_acc: 0.7267\n",
            "Epoch 15/20\n",
            "38/38 [==============================] - 25s 670ms/step - loss: 0.6328 - acc: 0.7928 - val_loss: 0.8365 - val_acc: 0.7100\n",
            "Epoch 16/20\n",
            "38/38 [==============================] - 25s 671ms/step - loss: 0.6388 - acc: 0.7899 - val_loss: 0.8227 - val_acc: 0.7133\n",
            "Epoch 17/20\n",
            "38/38 [==============================] - 25s 669ms/step - loss: 0.6342 - acc: 0.7878 - val_loss: 0.9057 - val_acc: 0.6900\n",
            "Epoch 18/20\n",
            "38/38 [==============================] - 25s 671ms/step - loss: 0.6445 - acc: 0.7989 - val_loss: 0.8192 - val_acc: 0.7150\n",
            "Epoch 19/20\n",
            "38/38 [==============================] - 25s 670ms/step - loss: 0.5986 - acc: 0.8047 - val_loss: 0.7924 - val_acc: 0.7367\n",
            "Epoch 20/20\n",
            "38/38 [==============================] - 25s 671ms/step - loss: 0.6276 - acc: 0.7981 - val_loss: 0.8704 - val_acc: 0.6900\n"
          ],
          "name": "stdout"
        },
        {
          "output_type": "execute_result",
          "data": {
            "text/plain": [
              "<keras.callbacks.History at 0x7f90e5f85518>"
            ]
          },
          "metadata": {
            "tags": []
          },
          "execution_count": 22
        }
      ]
    },
    {
      "metadata": {
        "id": "upt7r2wTWMuy",
        "colab_type": "text"
      },
      "cell_type": "markdown",
      "source": [
        "# Discussion\n"
      ]
    },
    {
      "metadata": {
        "id": "D_Tw-UBAWOgD",
        "colab_type": "text"
      },
      "cell_type": "markdown",
      "source": [
        "The accuracy of the network could be improved by training more of the layers of the model as opposed to just the final layer - however, this would greatly increase the time taken for training. For example, training the penultimate layer as well would increase the number of weights to train from 40,970 to 16,822,282, which is a x410 increase!\n",
        "\n",
        "In addition, the batch size could be increased to 256 like the original paper did, and the network could be trained on all five data batches provided by CIFAR (as opposed to the singular one used here). However, there is not enough memory in the current GPU provided by Google Colab to allow for these many images, so the program is limited by hardware constraints.\n",
        "\n",
        "An alternative approach would be to not resize the CIFAR images - by keeping them 32x32 pixels, each image takes up much less memory to process, and therefore more images can be used. This would require us to remove the top two layers of the VGG16 model [`block1_conv1 (Conv2D)`,  `block1_conv2 (Conv2D)`]  and add our own layers that accepted an input shape of (32, 32, 3), and would also have to be trained, which would add to training time."
      ]
    },
    {
      "metadata": {
        "id": "GI0UfFkzOfc1",
        "colab_type": "code",
        "colab": {}
      },
      "cell_type": "code",
      "source": [
        ""
      ],
      "execution_count": 0,
      "outputs": []
    }
  ]
}